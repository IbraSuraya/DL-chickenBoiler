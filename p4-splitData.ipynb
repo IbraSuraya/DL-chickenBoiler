{
 "cells": [
  {
   "cell_type": "code",
   "execution_count": 95,
   "metadata": {},
   "outputs": [],
   "source": [
    "import pandas as pd\n",
    "import shutil\n",
    "import os\n",
    "\n",
    "# from sklearn.model_selection import train_test_split\n",
    "\n",
    "from skmultilearn.model_selection import iterative_train_test_split\n",
    "from sklearn.utils import shuffle\n",
    "\n",
    "from iterstrat.ml_stratifiers import MultilabelStratifiedShuffleSplit\n",
    "from sklearn.utils import indexable, _safe_indexing\n",
    "from sklearn.utils.validation import _num_samples\n",
    "from sklearn.model_selection._split import _validate_shuffle_split\n",
    "from itertools import chain"
   ]
  },
  {
   "cell_type": "code",
   "execution_count": 73,
   "metadata": {},
   "outputs": [
    {
     "name": "stdout",
     "output_type": "stream",
     "text": [
      "(1354, 6)\n"
     ]
    },
    {
     "data": {
      "text/html": [
       "<div>\n",
       "<style scoped>\n",
       "    .dataframe tbody tr th:only-of-type {\n",
       "        vertical-align: middle;\n",
       "    }\n",
       "\n",
       "    .dataframe tbody tr th {\n",
       "        vertical-align: top;\n",
       "    }\n",
       "\n",
       "    .dataframe thead th {\n",
       "        text-align: right;\n",
       "    }\n",
       "</style>\n",
       "<table border=\"1\" class=\"dataframe\">\n",
       "  <thead>\n",
       "    <tr style=\"text-align: right;\">\n",
       "      <th></th>\n",
       "      <th>fname</th>\n",
       "      <th>neckHead</th>\n",
       "      <th>breast</th>\n",
       "      <th>wing</th>\n",
       "      <th>thigh</th>\n",
       "      <th>feet</th>\n",
       "    </tr>\n",
       "  </thead>\n",
       "  <tbody>\n",
       "    <tr>\n",
       "      <th>0</th>\n",
       "      <td>img-1.png</td>\n",
       "      <td>0</td>\n",
       "      <td>1</td>\n",
       "      <td>1</td>\n",
       "      <td>1</td>\n",
       "      <td>0</td>\n",
       "    </tr>\n",
       "    <tr>\n",
       "      <th>1</th>\n",
       "      <td>img-2.png</td>\n",
       "      <td>0</td>\n",
       "      <td>0</td>\n",
       "      <td>0</td>\n",
       "      <td>1</td>\n",
       "      <td>0</td>\n",
       "    </tr>\n",
       "    <tr>\n",
       "      <th>2</th>\n",
       "      <td>img-3.png</td>\n",
       "      <td>1</td>\n",
       "      <td>1</td>\n",
       "      <td>1</td>\n",
       "      <td>1</td>\n",
       "      <td>1</td>\n",
       "    </tr>\n",
       "    <tr>\n",
       "      <th>3</th>\n",
       "      <td>img-4.png</td>\n",
       "      <td>0</td>\n",
       "      <td>1</td>\n",
       "      <td>0</td>\n",
       "      <td>0</td>\n",
       "      <td>0</td>\n",
       "    </tr>\n",
       "    <tr>\n",
       "      <th>4</th>\n",
       "      <td>img-5.png</td>\n",
       "      <td>1</td>\n",
       "      <td>1</td>\n",
       "      <td>1</td>\n",
       "      <td>1</td>\n",
       "      <td>1</td>\n",
       "    </tr>\n",
       "  </tbody>\n",
       "</table>\n",
       "</div>"
      ],
      "text/plain": [
       "       fname  neckHead  breast  wing  thigh  feet\n",
       "0  img-1.png         0       1     1      1     0\n",
       "1  img-2.png         0       0     0      1     0\n",
       "2  img-3.png         1       1     1      1     1\n",
       "3  img-4.png         0       1     0      0     0\n",
       "4  img-5.png         1       1     1      1     1"
      ]
     },
     "execution_count": 73,
     "metadata": {},
     "output_type": "execute_result"
    }
   ],
   "source": [
    "df = pd.read_csv(\"scrapeData\\\\multiLabel.csv\")\n",
    "rename_map = {\n",
    "  \"nama_file\" : \"fname\"\n",
    "}\n",
    "df.rename(columns=rename_map, inplace=True)\n",
    "print(df.shape)\n",
    "df.head()"
   ]
  },
  {
   "cell_type": "code",
   "execution_count": 80,
   "metadata": {},
   "outputs": [],
   "source": [
    "X = df[['fname']]\n",
    "y = df.iloc[:, 1:]\n",
    "\n",
    "X_train, y_train, X_test, y_test = iterative_train_test_split(X.values, y.values, test_size=0.2)\n",
    "X_train, y_train = shuffle(X_train, y_train, random_state=42)"
   ]
  },
  {
   "cell_type": "code",
   "execution_count": 81,
   "metadata": {},
   "outputs": [
    {
     "name": "stdout",
     "output_type": "stream",
     "text": [
      "Jumlah data train: 1078\n",
      "Jumlah data test: 276\n"
     ]
    }
   ],
   "source": [
    "print(\"Jumlah data train:\", len(X_train))\n",
    "print(\"Jumlah data test:\", len(X_test))"
   ]
  },
  {
   "cell_type": "code",
   "execution_count": 82,
   "metadata": {},
   "outputs": [
    {
     "name": "stdout",
     "output_type": "stream",
     "text": [
      "Shape X_train :  (1078, 1)\n",
      "Shape y_train :  (1078, 5)\n",
      "Shape X_test  :  (276, 1)\n",
      "Shape y_test  :  (276, 5)\n"
     ]
    }
   ],
   "source": [
    "print(\"Shape X_train : \", X_train.shape)\n",
    "print(\"Shape y_train : \", y_train.shape)\n",
    "print(\"Shape X_test  : \", X_test.shape)\n",
    "print(\"Shape y_test  : \", y_test.shape)"
   ]
  },
  {
   "cell_type": "code",
   "execution_count": 90,
   "metadata": {},
   "outputs": [],
   "source": [
    "# Simpan data pelatihan ke dalam file train_label.csv\n",
    "train_data = pd.concat([pd.DataFrame(X_train, columns=['fname']), pd.DataFrame(y_train, columns=y.columns)], axis=1)\n",
    "train_data.to_csv('data\\\\train_label.csv', index=False)\n",
    "\n",
    "# Simpan data pengujian ke dalam file test_label.csv\n",
    "test_data = pd.concat([pd.DataFrame(X_test, columns=['fname']), pd.DataFrame(y_test, columns=y.columns)], axis=1)\n",
    "test_data.to_csv('data\\\\test_label.csv', index=False)"
   ]
  },
  {
   "cell_type": "code",
   "execution_count": 108,
   "metadata": {},
   "outputs": [
    {
     "name": "stdout",
     "output_type": "stream",
     "text": [
      "File berhasil disalin dari data\\fullTest ke data\\train\n"
     ]
    }
   ],
   "source": [
    "dir_sumber = 'data\\\\fullTest'\n",
    "dir_tujuan = 'data\\\\train'\n",
    "\n",
    "# files = os.listdir(dir_sumber)\n",
    "\n",
    "for file in X_train:\n",
    "  path_sumber = os.path.join(dir_sumber, file[0])\n",
    "  path_tujuan = os.path.join(dir_tujuan, file[0])\n",
    "\n",
    "  shutil.copy2(path_sumber, path_tujuan)\n",
    "\n",
    "print(\"File berhasil disalin dari {} ke {}\".format(dir_sumber, dir_tujuan))\n",
    "print(len(os.listdir(dir_tujuan)))"
   ]
  },
  {
   "cell_type": "code",
   "execution_count": 113,
   "metadata": {},
   "outputs": [
    {
     "name": "stdout",
     "output_type": "stream",
     "text": [
      "File berhasil disalin dari data\\fullTest ke data\\test\n",
      "276\n"
     ]
    }
   ],
   "source": [
    "dir_sumber = 'data\\\\fullTest'\n",
    "dir_tujuan = 'data\\\\test'\n",
    "\n",
    "# files = os.listdir(dir_sumber)\n",
    "\n",
    "for file in X_test:\n",
    "  path_sumber = os.path.join(dir_sumber, file[0])\n",
    "  path_tujuan = os.path.join(dir_tujuan, file[0])\n",
    "\n",
    "  shutil.copy2(path_sumber, path_tujuan)\n",
    "\n",
    "print(\"File berhasil disalin dari {} ke {}\".format(dir_sumber, dir_tujuan))\n",
    "print(len(os.listdir(dir_tujuan)))"
   ]
  },
  {
   "cell_type": "code",
   "execution_count": 112,
   "metadata": {},
   "outputs": [
    {
     "data": {
      "text/plain": [
       "(276, 1)"
      ]
     },
     "execution_count": 112,
     "metadata": {},
     "output_type": "execute_result"
    }
   ],
   "source": [
    "X_test.shape"
   ]
  }
 ],
 "metadata": {
  "kernelspec": {
   "display_name": "base",
   "language": "python",
   "name": "python3"
  },
  "language_info": {
   "codemirror_mode": {
    "name": "ipython",
    "version": 3
   },
   "file_extension": ".py",
   "mimetype": "text/x-python",
   "name": "python",
   "nbconvert_exporter": "python",
   "pygments_lexer": "ipython3",
   "version": "3.11.6"
  }
 },
 "nbformat": 4,
 "nbformat_minor": 2
}
